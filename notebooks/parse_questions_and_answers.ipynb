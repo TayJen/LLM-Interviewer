{
 "cells": [
  {
   "cell_type": "markdown",
   "id": "80a3abd6-b025-45a0-8039-9876be8a1ff1",
   "metadata": {},
   "source": [
    "## Import libraries"
   ]
  },
  {
   "cell_type": "code",
   "execution_count": 1,
   "id": "902b89b6-aee6-4154-b66c-a0ef2d86ff69",
   "metadata": {},
   "outputs": [],
   "source": [
    "import os\n",
    "import json\n",
    "import requests\n",
    "import re\n",
    "\n",
    "# from bs4 import BeautifulSoup"
   ]
  },
  {
   "cell_type": "markdown",
   "id": "ee7bbbaa-b3da-4aaa-b044-804db45dcb9e",
   "metadata": {},
   "source": [
    "## 1. Data-Science-Interview-Questions-Answers\n",
    "https://github.com/youssefHosni/Data-Science-Interview-Questions-Answers"
   ]
  },
  {
   "cell_type": "code",
   "execution_count": 2,
   "id": "51f20a37-06bc-4414-90de-6b888773781a",
   "metadata": {},
   "outputs": [],
   "source": [
    "# main_url = \"https://raw.githubusercontent.com/youssefHosni/Data-Science-Interview-Questions-Answers/refs/heads/main/README.md\"\n",
    "\n",
    "# parsed from here already to files\n",
    "github_questions_urls = [\n",
    "    \"https://raw.githubusercontent.com/youssefHosni/Data-Science-Interview-Questions-Answers/refs/heads/main/Machine%20Learning%20Interview%20Questions%20%26%20Answers%20for%20Data%20Scientists.md\",\n",
    "    \"https://raw.githubusercontent.com/youssefHosni/Data-Science-Interview-Questions-Answers/refs/heads/main/Deep%20Learning%20Questions%20%26%20Answers%20for%20Data%20Scientists.md\",\n",
    "    \"https://raw.githubusercontent.com/youssefHosni/Data-Science-Interview-Questions-Answers/refs/heads/main/Statistics%20Interview%20Questions%20%26%20Answers%20for%20Data%20Scientists.md\",\n",
    "    \"https://raw.githubusercontent.com/youssefHosni/Data-Science-Interview-Questions-Answers/refs/heads/main/Probability%20Interview%20Questions%20%26%20Answers%20for%20Data%20Scientists.md\",\n",
    "    \"https://raw.githubusercontent.com/youssefHosni/Data-Science-Interview-Questions-Answers/refs/heads/main/Python%20Interview%20Questions%20%26%20Answers%20for%20Data%20Scientists.md\",\n",
    "    \"https://raw.githubusercontent.com/youssefHosni/Data-Science-Interview-Questions-Answers/refs/heads/main/SQL%20%26%20DB%20Interview%20Questions%20%26%20Answers%20for%20Data%20Scientists.md\",\n",
    "    \"https://raw.githubusercontent.com/youssefHosni/Data-Science-Interview-Questions-Answers/refs/heads/main/Resume%20Based%20Questions.md\"\n",
    "]\n",
    "\n",
    "medium_question_urls = [\n",
    "    \"https://levelup.gitconnected.com/top-large-language-models-llms-interview-questions-answers-d7b83f94c4e\",\n",
    "    \"https://levelup.gitconnected.com/top-computer-vision-interview-questions-answers-part-1-7eddf45cfdf7\",\n",
    "    \"https://levelup.gitconnected.com/top-computer-vision-interview-questions-answers-part-2-107244fc4289\",\n",
    "    \"https://levelup.gitconnected.com/top-computer-vision-interview-questions-answers-part-3-1e43909131b2\"\n",
    "]"
   ]
  },
  {
   "cell_type": "code",
   "execution_count": 3,
   "id": "14c2e90c-3197-4f47-82d3-d4d854ef3831",
   "metadata": {},
   "outputs": [],
   "source": [
    "# # URL of the raw markdown file from the GitHub repository\n",
    "# url_github = github_questions_urls[4]\n",
    "\n",
    "# # Fetch the content of the README.md\n",
    "# response = requests.get(url_github)\n",
    "\n",
    "# # Check if the request was successful\n",
    "# if response.status_code == 200:\n",
    "#     markdown_content = response.text\n",
    "# else:\n",
    "#     print(f\"Failed to fetch the file. Status code: {response.status_code}\")\n",
    "#     exit()\n",
    "\n",
    "# # Parse the Markdown content using BeautifulSoup\n",
    "# soup = BeautifulSoup(markdown_content, \"html.parser\")\n",
    "# content = soup.get_text()\n",
    "\n",
    "# content[:20]"
   ]
  },
  {
   "cell_type": "code",
   "execution_count": 6,
   "id": "da3d5d47-9a79-43cd-bb06-985a9fbbcd4e",
   "metadata": {},
   "outputs": [],
   "source": [
    "github_mds_path = \"./questions_data/data-science-interview-questions-mds/\"\n",
    "github_mds_files = os.listdir(github_mds_path)\n",
    "\n",
    "def parse_questions_answers(content: str) -> list[dict[str, str]]:\n",
    "    # Regular expression to identify question headers\n",
    "    # Modified regex to handle both \"? ###\" and \"?###\" formats\n",
    "    question_pattern = re.compile(r\"### Q\\d+: (.+)\")\n",
    "    answer_start_pattern = re.compile(r\"Answer:\\s*(.*)\", re.IGNORECASE)\n",
    "    \n",
    "    # List to hold the parsed questions and answers\n",
    "    qa_list = []\n",
    "    \n",
    "    current_question = None\n",
    "    current_answer = []\n",
    "    \n",
    "    # Split the content into lines\n",
    "    lines = content.splitlines()\n",
    "    \n",
    "    def clean_answer(answer_lines):\n",
    "        \"\"\" Helper function to clean answer lines \"\"\"\n",
    "        return \"\\n\".join(answer_lines).strip()\n",
    "    \n",
    "    # Loop through each line to extract questions and answers\n",
    "    for line in lines:\n",
    "        # Match questions\n",
    "        question_match = question_pattern.match(line)\n",
    "        \n",
    "        if question_match:\n",
    "            # If we encounter a new question, save the previous question-answer pair (if any)\n",
    "            if current_question:\n",
    "                qa_list.append({\n",
    "                    \"question\": current_question,\n",
    "                    \"answer\": clean_answer(current_answer) if current_answer else \"\"\n",
    "                })\n",
    "            \n",
    "            # Store the new question and reset the answer collection\n",
    "            current_question = question_match.group(1)\n",
    "            current_answer = []  # Reset for the new question\n",
    "    \n",
    "        else:\n",
    "            # Match and capture the answer when 'Answer:' keyword is found\n",
    "            answer_match = answer_start_pattern.match(line)\n",
    "            if answer_match:\n",
    "                # Start the answer with any text found on the same line after 'Answer:'\n",
    "                current_answer.append(answer_match.group(1))\n",
    "            elif current_question and current_answer is not None and not question_pattern.match(line):\n",
    "                # Accumulate answer lines (anything after 'Answer:' until next question)\n",
    "                current_answer.append(line)\n",
    "\n",
    "    # Add the last question-answer pair after the loop\n",
    "    if current_question:\n",
    "        qa_list.append({\n",
    "            \"question\": current_question,\n",
    "            \"answer\": clean_answer(current_answer) if current_answer else \"\"\n",
    "        })\n",
    "    return qa_list\n",
    "    "
   ]
  },
  {
   "cell_type": "code",
   "execution_count": 8,
   "id": "46fbb945-fa2b-4930-9a08-6579bc274f1c",
   "metadata": {},
   "outputs": [],
   "source": [
    "os.makedirs(\"questions_data/data/\", exist_ok=True)\n"
   ]
  },
  {
   "cell_type": "code",
   "execution_count": 10,
   "id": "b740ced1-a107-42bd-ad91-95b037f5ffaa",
   "metadata": {},
   "outputs": [
    {
     "name": "stdout",
     "output_type": "stream",
     "text": [
      "Now in Machine Learning Interview Questions & Answers for Data Scientists.md\n",
      "machine_learning_interview\n",
      "Successfully parsed 36 questions and answers.\n",
      "\n",
      "Now in Python Interview Questions & Answers for Data Scientists.md\n",
      "python_interview_questions\n",
      "Successfully parsed 14 questions and answers.\n",
      "\n",
      "Now in Probability Interview Questions & Answers for Data Scientists.md\n",
      "probability_interview_questions\n",
      "Successfully parsed 17 questions and answers.\n",
      "\n",
      "Now in Resume Based Questions.md\n",
      "resume_based_questions\n",
      "Successfully parsed 2 questions and answers.\n",
      "\n",
      "Now in Deep Learning Questions & Answers for Data Scientists.md\n",
      "deep_learning_questions\n",
      "Successfully parsed 44 questions and answers.\n",
      "\n",
      "Now in SQL & DB Interview Questions & Answers for Data Scientists.md\n",
      "sql_&_db\n",
      "Successfully parsed 12 questions and answers.\n",
      "\n",
      "Now in Statistics Interview Questions & Answers for Data Scientists.md\n",
      "statistics_interview_questions\n",
      "Successfully parsed 17 questions and answers.\n",
      "\n",
      "Total questions parsed: 142\n"
     ]
    }
   ],
   "source": [
    "total = 0\n",
    "\n",
    "for file_name in github_mds_files:\n",
    "    print(f\"Now in {file_name}\")\n",
    "    concept_name = '_'.join(file_name.split('.')[0].split(' ')[:3]).lower()\n",
    "    print(concept_name)\n",
    "\n",
    "    with open(os.path.join(github_mds_path, file_name), 'r') as f:\n",
    "        content = f.read()\n",
    "        qa_list = parse_questions_answers(content)\n",
    "\n",
    "    with open(f\"questions_data/data/{concept_name}_parsed_questions.json\", 'w') as f:\n",
    "        json.dump(qa_list, f)\n",
    "\n",
    "    print(f\"Successfully parsed {len(qa_list)} questions and answers.\")\n",
    "    total += len(qa_list)\n",
    "\n",
    "    print()\n",
    "\n",
    "print(f\"Total questions parsed: {total}\")"
   ]
  },
  {
   "cell_type": "code",
   "execution_count": 58,
   "id": "16fafb92-9ce8-4632-99f3-08f46780c7e6",
   "metadata": {},
   "outputs": [],
   "source": [
    "with open(os.path.join(github_mds_path, github_mds_files[1]), 'r') as f:\n",
    "    content = f.read()\n",
    "    qa_list = parse_questions_answers(content)\n",
    "\n"
   ]
  },
  {
   "cell_type": "code",
   "execution_count": 59,
   "id": "0d6b99fb-c922-4355-8bbc-1b47c4f8ad81",
   "metadata": {},
   "outputs": [
    {
     "data": {
      "text/plain": [
       "{'question': 'Given an integer n and an integer K, output a list of all of the combination of k numbers chosen from 1 to n. For example, if n=3 and k=2, return [1,2],[1,3],[2,3]',\n",
       " 'answer': ' Answer ``` from itertools import combinations def find_combintaion(k,n):     list_num = []     comb = combinations([x for x in range(1, n+1)],k)     for i in comb:         list_num.append(i)     print(\"(K:{},n:{}):\".format(k,n))     print(list_num,\"\\\\n\") ``` '}"
      ]
     },
     "execution_count": 59,
     "metadata": {},
     "output_type": "execute_result"
    }
   ],
   "source": [
    "qa_list[5]\n"
   ]
  },
  {
   "cell_type": "code",
   "execution_count": null,
   "id": "c5c4ff28-e740-40ab-8309-182fb4b4faaf",
   "metadata": {},
   "outputs": [],
   "source": []
  },
  {
   "cell_type": "code",
   "execution_count": null,
   "id": "91537859-4fb1-44f6-9fbf-8bee2f705301",
   "metadata": {},
   "outputs": [],
   "source": []
  },
  {
   "cell_type": "code",
   "execution_count": null,
   "id": "1d92026b-95fe-42b8-b177-b86b8a58451d",
   "metadata": {},
   "outputs": [],
   "source": []
  }
 ],
 "metadata": {
  "kernelspec": {
   "display_name": "llm_interviewer",
   "language": "python",
   "name": "llm_interviewer"
  },
  "language_info": {
   "codemirror_mode": {
    "name": "ipython",
    "version": 3
   },
   "file_extension": ".py",
   "mimetype": "text/x-python",
   "name": "python",
   "nbconvert_exporter": "python",
   "pygments_lexer": "ipython3",
   "version": "3.11.9"
  }
 },
 "nbformat": 4,
 "nbformat_minor": 5
}
